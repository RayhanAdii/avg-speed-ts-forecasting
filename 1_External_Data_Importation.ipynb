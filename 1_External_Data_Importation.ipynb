{
 "cells": [
  {
   "cell_type": "code",
   "execution_count": 1,
   "id": "de3dac08",
   "metadata": {},
   "outputs": [],
   "source": [
    "import pandas as pd\n",
    "import numpy as np\n",
    "from matplotlib import pyplot as plt"
   ]
  },
  {
   "cell_type": "markdown",
   "id": "52dd9bc1",
   "metadata": {},
   "source": [
    "### Get data from openstreetmap"
   ]
  },
  {
   "cell_type": "code",
   "execution_count": 2,
   "id": "c94d118e",
   "metadata": {},
   "outputs": [],
   "source": [
    "osm_data = pd.read_csv('dataset/OSM.csv')"
   ]
  },
  {
   "cell_type": "code",
   "execution_count": 4,
   "id": "6ce8bb22",
   "metadata": {},
   "outputs": [
    {
     "data": {
      "text/html": [
       "<div>\n",
       "<style scoped>\n",
       "    .dataframe tbody tr th:only-of-type {\n",
       "        vertical-align: middle;\n",
       "    }\n",
       "\n",
       "    .dataframe tbody tr th {\n",
       "        vertical-align: top;\n",
       "    }\n",
       "\n",
       "    .dataframe thead th {\n",
       "        text-align: right;\n",
       "    }\n",
       "</style>\n",
       "<table border=\"1\" class=\"dataframe\">\n",
       "  <thead>\n",
       "    <tr style=\"text-align: right;\">\n",
       "      <th></th>\n",
       "      <th>id_jalan</th>\n",
       "      <th>lanes</th>\n",
       "      <th>maxspeed</th>\n",
       "      <th>surface</th>\n",
       "      <th>highway</th>\n",
       "      <th>lit</th>\n",
       "    </tr>\n",
       "  </thead>\n",
       "  <tbody>\n",
       "    <tr>\n",
       "      <th>0</th>\n",
       "      <td>691007296</td>\n",
       "      <td>3.0</td>\n",
       "      <td>30</td>\n",
       "      <td>asphalt</td>\n",
       "      <td>trunk</td>\n",
       "      <td>yes</td>\n",
       "    </tr>\n",
       "    <tr>\n",
       "      <th>1</th>\n",
       "      <td>47010584</td>\n",
       "      <td>NaN</td>\n",
       "      <td>30</td>\n",
       "      <td>NaN</td>\n",
       "      <td>primary</td>\n",
       "      <td>yes</td>\n",
       "    </tr>\n",
       "    <tr>\n",
       "      <th>2</th>\n",
       "      <td>22932408</td>\n",
       "      <td>NaN</td>\n",
       "      <td>20</td>\n",
       "      <td>NaN</td>\n",
       "      <td>secondary</td>\n",
       "      <td>yes</td>\n",
       "    </tr>\n",
       "    <tr>\n",
       "      <th>3</th>\n",
       "      <td>142479648</td>\n",
       "      <td>3.0</td>\n",
       "      <td>20</td>\n",
       "      <td>asphalt</td>\n",
       "      <td>primary</td>\n",
       "      <td>yes</td>\n",
       "    </tr>\n",
       "    <tr>\n",
       "      <th>4</th>\n",
       "      <td>8504977</td>\n",
       "      <td>2.0</td>\n",
       "      <td>30</td>\n",
       "      <td>asphalt</td>\n",
       "      <td>primary</td>\n",
       "      <td>yes</td>\n",
       "    </tr>\n",
       "  </tbody>\n",
       "</table>\n",
       "</div>"
      ],
      "text/plain": [
       "    id_jalan  lanes  maxspeed  surface    highway  lit\n",
       "0  691007296    3.0        30  asphalt      trunk  yes\n",
       "1   47010584    NaN        30      NaN    primary  yes\n",
       "2   22932408    NaN        20      NaN  secondary  yes\n",
       "3  142479648    3.0        20  asphalt    primary  yes\n",
       "4    8504977    2.0        30  asphalt    primary  yes"
      ]
     },
     "execution_count": 4,
     "metadata": {},
     "output_type": "execute_result"
    }
   ],
   "source": [
    "osm_data.head()"
   ]
  },
  {
   "cell_type": "markdown",
   "id": "92283226",
   "metadata": {},
   "source": [
    "### Karena surface dan lit constant, kita drop saja"
   ]
  },
  {
   "cell_type": "code",
   "execution_count": 5,
   "id": "3d9b4941",
   "metadata": {},
   "outputs": [],
   "source": [
    "osm_data = osm_data.drop(['surface','lit'], axis = 1)"
   ]
  },
  {
   "cell_type": "code",
   "execution_count": 6,
   "id": "124b23bb",
   "metadata": {},
   "outputs": [
    {
     "data": {
      "text/html": [
       "<div>\n",
       "<style scoped>\n",
       "    .dataframe tbody tr th:only-of-type {\n",
       "        vertical-align: middle;\n",
       "    }\n",
       "\n",
       "    .dataframe tbody tr th {\n",
       "        vertical-align: top;\n",
       "    }\n",
       "\n",
       "    .dataframe thead th {\n",
       "        text-align: right;\n",
       "    }\n",
       "</style>\n",
       "<table border=\"1\" class=\"dataframe\">\n",
       "  <thead>\n",
       "    <tr style=\"text-align: right;\">\n",
       "      <th></th>\n",
       "      <th>id_jalan</th>\n",
       "      <th>lanes</th>\n",
       "      <th>maxspeed</th>\n",
       "      <th>highway</th>\n",
       "    </tr>\n",
       "  </thead>\n",
       "  <tbody>\n",
       "    <tr>\n",
       "      <th>0</th>\n",
       "      <td>691007296</td>\n",
       "      <td>3.0</td>\n",
       "      <td>30</td>\n",
       "      <td>trunk</td>\n",
       "    </tr>\n",
       "    <tr>\n",
       "      <th>1</th>\n",
       "      <td>47010584</td>\n",
       "      <td>NaN</td>\n",
       "      <td>30</td>\n",
       "      <td>primary</td>\n",
       "    </tr>\n",
       "    <tr>\n",
       "      <th>2</th>\n",
       "      <td>22932408</td>\n",
       "      <td>NaN</td>\n",
       "      <td>20</td>\n",
       "      <td>secondary</td>\n",
       "    </tr>\n",
       "    <tr>\n",
       "      <th>3</th>\n",
       "      <td>142479648</td>\n",
       "      <td>3.0</td>\n",
       "      <td>20</td>\n",
       "      <td>primary</td>\n",
       "    </tr>\n",
       "    <tr>\n",
       "      <th>4</th>\n",
       "      <td>8504977</td>\n",
       "      <td>2.0</td>\n",
       "      <td>30</td>\n",
       "      <td>primary</td>\n",
       "    </tr>\n",
       "  </tbody>\n",
       "</table>\n",
       "</div>"
      ],
      "text/plain": [
       "    id_jalan  lanes  maxspeed    highway\n",
       "0  691007296    3.0        30      trunk\n",
       "1   47010584    NaN        30    primary\n",
       "2   22932408    NaN        20  secondary\n",
       "3  142479648    3.0        20    primary\n",
       "4    8504977    2.0        30    primary"
      ]
     },
     "execution_count": 6,
     "metadata": {},
     "output_type": "execute_result"
    }
   ],
   "source": [
    "osm_data.head()"
   ]
  },
  {
   "cell_type": "markdown",
   "id": "fabddbbe",
   "metadata": {},
   "source": []
  },
  {
   "cell_type": "markdown",
   "id": "979383e0",
   "metadata": {},
   "source": [
    "### Export aja karena yg paling penting maxspeednya"
   ]
  },
  {
   "cell_type": "code",
   "execution_count": 7,
   "id": "151e8687",
   "metadata": {},
   "outputs": [],
   "source": [
    "osm_data.to_csv(r'dataset/static_data.csv', index=False)"
   ]
  },
  {
   "cell_type": "code",
   "execution_count": null,
   "id": "94543005",
   "metadata": {},
   "outputs": [],
   "source": []
  }
 ],
 "metadata": {
  "kernelspec": {
   "display_name": "Python 3 (ipykernel)",
   "language": "python",
   "name": "python3"
  },
  "language_info": {
   "codemirror_mode": {
    "name": "ipython",
    "version": 3
   },
   "file_extension": ".py",
   "mimetype": "text/x-python",
   "name": "python",
   "nbconvert_exporter": "python",
   "pygments_lexer": "ipython3",
   "version": "3.10.0"
  }
 },
 "nbformat": 4,
 "nbformat_minor": 5
}
