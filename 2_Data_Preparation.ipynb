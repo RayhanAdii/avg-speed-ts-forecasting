{
 "cells": [
  {
   "cell_type": "code",
   "execution_count": 4,
   "id": "b2d11885-2617-4cba-bdd4-f6a9a1e4ac28",
   "metadata": {},
   "outputs": [],
   "source": [
    "import pandas as pd\n",
    "import numpy as np\n",
    "from matplotlib import pyplot as plt"
   ]
  },
  {
   "cell_type": "code",
   "execution_count": 5,
   "id": "85d70e2e-2041-45ea-a214-44ca6d4ad82a",
   "metadata": {},
   "outputs": [],
   "source": [
    "df_train = pd.read_csv('dataset/train.csv')\n",
    "df_test = pd.read_csv('dataset/test.csv')"
   ]
  },
  {
   "cell_type": "code",
   "execution_count": 6,
   "id": "e97f58bd-7da6-4603-b8b1-cc9d3222386c",
   "metadata": {},
   "outputs": [
    {
     "data": {
      "text/html": [
       "<div>\n",
       "<style scoped>\n",
       "    .dataframe tbody tr th:only-of-type {\n",
       "        vertical-align: middle;\n",
       "    }\n",
       "\n",
       "    .dataframe tbody tr th {\n",
       "        vertical-align: top;\n",
       "    }\n",
       "\n",
       "    .dataframe thead th {\n",
       "        text-align: right;\n",
       "    }\n",
       "</style>\n",
       "<table border=\"1\" class=\"dataframe\">\n",
       "  <thead>\n",
       "    <tr style=\"text-align: right;\">\n",
       "      <th></th>\n",
       "      <th>waktu_setempat</th>\n",
       "      <th>id_jalan</th>\n",
       "      <th>id_titik_mulai</th>\n",
       "      <th>id_titik_akhir</th>\n",
       "      <th>rerata_kecepatan</th>\n",
       "    </tr>\n",
       "  </thead>\n",
       "  <tbody>\n",
       "    <tr>\n",
       "      <th>0</th>\n",
       "      <td>2020-02-01 01:00:00+00:00</td>\n",
       "      <td>691007296</td>\n",
       "      <td>21390008</td>\n",
       "      <td>1425033102</td>\n",
       "      <td>29.126</td>\n",
       "    </tr>\n",
       "    <tr>\n",
       "      <th>1</th>\n",
       "      <td>2020-02-01 01:00:00+00:00</td>\n",
       "      <td>47010584</td>\n",
       "      <td>1677092762</td>\n",
       "      <td>579493410</td>\n",
       "      <td>46.576</td>\n",
       "    </tr>\n",
       "    <tr>\n",
       "      <th>2</th>\n",
       "      <td>2020-02-01 01:00:00+00:00</td>\n",
       "      <td>22932408</td>\n",
       "      <td>26486694</td>\n",
       "      <td>1930267566</td>\n",
       "      <td>36.587</td>\n",
       "    </tr>\n",
       "    <tr>\n",
       "      <th>3</th>\n",
       "      <td>2020-02-01 01:00:00+00:00</td>\n",
       "      <td>142479648</td>\n",
       "      <td>1111592522</td>\n",
       "      <td>3775231113</td>\n",
       "      <td>34.063</td>\n",
       "    </tr>\n",
       "    <tr>\n",
       "      <th>4</th>\n",
       "      <td>2020-02-01 01:00:00+00:00</td>\n",
       "      <td>8504977</td>\n",
       "      <td>5940503398</td>\n",
       "      <td>5940503394</td>\n",
       "      <td>38.336</td>\n",
       "    </tr>\n",
       "  </tbody>\n",
       "</table>\n",
       "</div>"
      ],
      "text/plain": [
       "              waktu_setempat   id_jalan  id_titik_mulai  id_titik_akhir  \\\n",
       "0  2020-02-01 01:00:00+00:00  691007296        21390008      1425033102   \n",
       "1  2020-02-01 01:00:00+00:00   47010584      1677092762       579493410   \n",
       "2  2020-02-01 01:00:00+00:00   22932408        26486694      1930267566   \n",
       "3  2020-02-01 01:00:00+00:00  142479648      1111592522      3775231113   \n",
       "4  2020-02-01 01:00:00+00:00    8504977      5940503398      5940503394   \n",
       "\n",
       "   rerata_kecepatan  \n",
       "0            29.126  \n",
       "1            46.576  \n",
       "2            36.587  \n",
       "3            34.063  \n",
       "4            38.336  "
      ]
     },
     "execution_count": 6,
     "metadata": {},
     "output_type": "execute_result"
    }
   ],
   "source": [
    "df_train.head()"
   ]
  },
  {
   "cell_type": "code",
   "execution_count": 7,
   "id": "58de1002-7261-4ad3-bc23-ed95793ae250",
   "metadata": {},
   "outputs": [
    {
     "name": "stdout",
     "output_type": "stream",
     "text": [
      "<class 'pandas.core.frame.DataFrame'>\n",
      "RangeIndex: 398648 entries, 0 to 398647\n",
      "Data columns (total 5 columns):\n",
      " #   Column            Non-Null Count   Dtype  \n",
      "---  ------            --------------   -----  \n",
      " 0   waktu_setempat    398648 non-null  object \n",
      " 1   id_jalan          398648 non-null  int64  \n",
      " 2   id_titik_mulai    398648 non-null  int64  \n",
      " 3   id_titik_akhir    398648 non-null  int64  \n",
      " 4   rerata_kecepatan  398648 non-null  float64\n",
      "dtypes: float64(1), int64(3), object(1)\n",
      "memory usage: 15.2+ MB\n"
     ]
    }
   ],
   "source": [
    "df_train.info()"
   ]
  },
  {
   "cell_type": "markdown",
   "id": "785a471c-c0fb-46c1-ab3c-9d2f54a7dbab",
   "metadata": {},
   "source": [
    "## Timestamp formating"
   ]
  },
  {
   "cell_type": "code",
   "execution_count": 8,
   "id": "d52af13e-1ef3-425a-849b-41e1c370de63",
   "metadata": {},
   "outputs": [],
   "source": [
    "# Slice and format datatime \n",
    "\n",
    "df_train['waktu_setempat'] = df_train['waktu_setempat'].str.slice(0, 19)\n",
    "df_train['waktu_setempat'] = pd.to_datetime(df_train['waktu_setempat'])\n",
    "\n",
    "df_test['waktu_setempat'] = df_test['waktu_setempat'].str.slice(0, 19)\n",
    "df_test['waktu_setempat'] = pd.to_datetime(df_test['waktu_setempat'])"
   ]
  },
  {
   "cell_type": "code",
   "execution_count": 9,
   "id": "9c0eedeb-c48e-43dc-ad1b-2cdedc26fe4b",
   "metadata": {},
   "outputs": [
    {
     "data": {
      "text/html": [
       "<div>\n",
       "<style scoped>\n",
       "    .dataframe tbody tr th:only-of-type {\n",
       "        vertical-align: middle;\n",
       "    }\n",
       "\n",
       "    .dataframe tbody tr th {\n",
       "        vertical-align: top;\n",
       "    }\n",
       "\n",
       "    .dataframe thead th {\n",
       "        text-align: right;\n",
       "    }\n",
       "</style>\n",
       "<table border=\"1\" class=\"dataframe\">\n",
       "  <thead>\n",
       "    <tr style=\"text-align: right;\">\n",
       "      <th></th>\n",
       "      <th>waktu_setempat</th>\n",
       "      <th>id_jalan</th>\n",
       "      <th>id_titik_mulai</th>\n",
       "      <th>id_titik_akhir</th>\n",
       "      <th>rerata_kecepatan</th>\n",
       "    </tr>\n",
       "  </thead>\n",
       "  <tbody>\n",
       "    <tr>\n",
       "      <th>0</th>\n",
       "      <td>2020-02-01 01:00:00</td>\n",
       "      <td>691007296</td>\n",
       "      <td>21390008</td>\n",
       "      <td>1425033102</td>\n",
       "      <td>29.126</td>\n",
       "    </tr>\n",
       "    <tr>\n",
       "      <th>1</th>\n",
       "      <td>2020-02-01 01:00:00</td>\n",
       "      <td>47010584</td>\n",
       "      <td>1677092762</td>\n",
       "      <td>579493410</td>\n",
       "      <td>46.576</td>\n",
       "    </tr>\n",
       "    <tr>\n",
       "      <th>2</th>\n",
       "      <td>2020-02-01 01:00:00</td>\n",
       "      <td>22932408</td>\n",
       "      <td>26486694</td>\n",
       "      <td>1930267566</td>\n",
       "      <td>36.587</td>\n",
       "    </tr>\n",
       "    <tr>\n",
       "      <th>3</th>\n",
       "      <td>2020-02-01 01:00:00</td>\n",
       "      <td>142479648</td>\n",
       "      <td>1111592522</td>\n",
       "      <td>3775231113</td>\n",
       "      <td>34.063</td>\n",
       "    </tr>\n",
       "    <tr>\n",
       "      <th>4</th>\n",
       "      <td>2020-02-01 01:00:00</td>\n",
       "      <td>8504977</td>\n",
       "      <td>5940503398</td>\n",
       "      <td>5940503394</td>\n",
       "      <td>38.336</td>\n",
       "    </tr>\n",
       "  </tbody>\n",
       "</table>\n",
       "</div>"
      ],
      "text/plain": [
       "       waktu_setempat   id_jalan  id_titik_mulai  id_titik_akhir  \\\n",
       "0 2020-02-01 01:00:00  691007296        21390008      1425033102   \n",
       "1 2020-02-01 01:00:00   47010584      1677092762       579493410   \n",
       "2 2020-02-01 01:00:00   22932408        26486694      1930267566   \n",
       "3 2020-02-01 01:00:00  142479648      1111592522      3775231113   \n",
       "4 2020-02-01 01:00:00    8504977      5940503398      5940503394   \n",
       "\n",
       "   rerata_kecepatan  \n",
       "0            29.126  \n",
       "1            46.576  \n",
       "2            36.587  \n",
       "3            34.063  \n",
       "4            38.336  "
      ]
     },
     "execution_count": 9,
     "metadata": {},
     "output_type": "execute_result"
    }
   ],
   "source": [
    "df_train.head()"
   ]
  },
  {
   "cell_type": "markdown",
   "id": "260006f8-80cd-4917-9bf4-e6a11daa7042",
   "metadata": {},
   "source": [
    "## External Data Merger"
   ]
  },
  {
   "cell_type": "code",
   "execution_count": null,
   "id": "75108ddc-5dcf-48d6-b093-eb1624f8549a",
   "metadata": {},
   "outputs": [],
   "source": []
  }
 ],
 "metadata": {
  "kernelspec": {
   "display_name": "Python 3 (ipykernel)",
   "language": "python",
   "name": "python3"
  },
  "language_info": {
   "codemirror_mode": {
    "name": "ipython",
    "version": 3
   },
   "file_extension": ".py",
   "mimetype": "text/x-python",
   "name": "python",
   "nbconvert_exporter": "python",
   "pygments_lexer": "ipython3",
   "version": "3.10.12"
  }
 },
 "nbformat": 4,
 "nbformat_minor": 5
}
