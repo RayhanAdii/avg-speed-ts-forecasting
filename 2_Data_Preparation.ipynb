{
 "cells": [
  {
   "cell_type": "code",
   "execution_count": 1,
   "id": "b2d11885-2617-4cba-bdd4-f6a9a1e4ac28",
   "metadata": {},
   "outputs": [],
   "source": [
    "import pandas as pd\n",
    "import numpy as np\n",
    "from matplotlib import pyplot as plt"
   ]
  },
  {
   "cell_type": "code",
   "execution_count": 2,
   "id": "85d70e2e-2041-45ea-a214-44ca6d4ad82a",
   "metadata": {},
   "outputs": [],
   "source": [
    "df_train = pd.read_csv('dataset/train.csv')\n",
    "df_test = pd.read_csv('dataset/test.csv')"
   ]
  },
  {
   "cell_type": "code",
   "execution_count": 3,
   "id": "e97f58bd-7da6-4603-b8b1-cc9d3222386c",
   "metadata": {},
   "outputs": [
    {
     "data": {
      "text/html": [
       "<div>\n",
       "<style scoped>\n",
       "    .dataframe tbody tr th:only-of-type {\n",
       "        vertical-align: middle;\n",
       "    }\n",
       "\n",
       "    .dataframe tbody tr th {\n",
       "        vertical-align: top;\n",
       "    }\n",
       "\n",
       "    .dataframe thead th {\n",
       "        text-align: right;\n",
       "    }\n",
       "</style>\n",
       "<table border=\"1\" class=\"dataframe\">\n",
       "  <thead>\n",
       "    <tr style=\"text-align: right;\">\n",
       "      <th></th>\n",
       "      <th>waktu_setempat</th>\n",
       "      <th>id_jalan</th>\n",
       "      <th>id_titik_mulai</th>\n",
       "      <th>id_titik_akhir</th>\n",
       "      <th>rerata_kecepatan</th>\n",
       "    </tr>\n",
       "  </thead>\n",
       "  <tbody>\n",
       "    <tr>\n",
       "      <th>0</th>\n",
       "      <td>2020-02-01 01:00:00+00:00</td>\n",
       "      <td>691007296</td>\n",
       "      <td>21390008</td>\n",
       "      <td>1425033102</td>\n",
       "      <td>29.126</td>\n",
       "    </tr>\n",
       "    <tr>\n",
       "      <th>1</th>\n",
       "      <td>2020-02-01 01:00:00+00:00</td>\n",
       "      <td>47010584</td>\n",
       "      <td>1677092762</td>\n",
       "      <td>579493410</td>\n",
       "      <td>46.576</td>\n",
       "    </tr>\n",
       "    <tr>\n",
       "      <th>2</th>\n",
       "      <td>2020-02-01 01:00:00+00:00</td>\n",
       "      <td>22932408</td>\n",
       "      <td>26486694</td>\n",
       "      <td>1930267566</td>\n",
       "      <td>36.587</td>\n",
       "    </tr>\n",
       "    <tr>\n",
       "      <th>3</th>\n",
       "      <td>2020-02-01 01:00:00+00:00</td>\n",
       "      <td>142479648</td>\n",
       "      <td>1111592522</td>\n",
       "      <td>3775231113</td>\n",
       "      <td>34.063</td>\n",
       "    </tr>\n",
       "    <tr>\n",
       "      <th>4</th>\n",
       "      <td>2020-02-01 01:00:00+00:00</td>\n",
       "      <td>8504977</td>\n",
       "      <td>5940503398</td>\n",
       "      <td>5940503394</td>\n",
       "      <td>38.336</td>\n",
       "    </tr>\n",
       "  </tbody>\n",
       "</table>\n",
       "</div>"
      ],
      "text/plain": [
       "              waktu_setempat   id_jalan  id_titik_mulai  id_titik_akhir  \\\n",
       "0  2020-02-01 01:00:00+00:00  691007296        21390008      1425033102   \n",
       "1  2020-02-01 01:00:00+00:00   47010584      1677092762       579493410   \n",
       "2  2020-02-01 01:00:00+00:00   22932408        26486694      1930267566   \n",
       "3  2020-02-01 01:00:00+00:00  142479648      1111592522      3775231113   \n",
       "4  2020-02-01 01:00:00+00:00    8504977      5940503398      5940503394   \n",
       "\n",
       "   rerata_kecepatan  \n",
       "0            29.126  \n",
       "1            46.576  \n",
       "2            36.587  \n",
       "3            34.063  \n",
       "4            38.336  "
      ]
     },
     "execution_count": 3,
     "metadata": {},
     "output_type": "execute_result"
    }
   ],
   "source": [
    "df_train.head()"
   ]
  },
  {
   "cell_type": "code",
   "execution_count": 4,
   "id": "58de1002-7261-4ad3-bc23-ed95793ae250",
   "metadata": {},
   "outputs": [
    {
     "name": "stdout",
     "output_type": "stream",
     "text": [
      "<class 'pandas.core.frame.DataFrame'>\n",
      "RangeIndex: 398648 entries, 0 to 398647\n",
      "Data columns (total 5 columns):\n",
      " #   Column            Non-Null Count   Dtype  \n",
      "---  ------            --------------   -----  \n",
      " 0   waktu_setempat    398648 non-null  object \n",
      " 1   id_jalan          398648 non-null  int64  \n",
      " 2   id_titik_mulai    398648 non-null  int64  \n",
      " 3   id_titik_akhir    398648 non-null  int64  \n",
      " 4   rerata_kecepatan  398648 non-null  float64\n",
      "dtypes: float64(1), int64(3), object(1)\n",
      "memory usage: 15.2+ MB\n"
     ]
    }
   ],
   "source": [
    "df_train.info()"
   ]
  },
  {
   "cell_type": "markdown",
   "id": "785a471c-c0fb-46c1-ab3c-9d2f54a7dbab",
   "metadata": {},
   "source": [
    "## Timestamp formating"
   ]
  },
  {
   "cell_type": "code",
   "execution_count": 5,
   "id": "d52af13e-1ef3-425a-849b-41e1c370de63",
   "metadata": {},
   "outputs": [],
   "source": [
    "# Slice and format datatime \n",
    "\n",
    "df_train['waktu_setempat'] = df_train['waktu_setempat'].str.slice(0, 19)\n",
    "df_train['waktu_setempat'] = pd.to_datetime(df_train['waktu_setempat'])\n",
    "\n",
    "df_test['waktu_setempat'] = df_test['waktu_setempat'].str.slice(0, 19)\n",
    "df_test['waktu_setempat'] = pd.to_datetime(df_test['waktu_setempat'])"
   ]
  },
  {
   "cell_type": "code",
   "execution_count": 6,
   "id": "9c0eedeb-c48e-43dc-ad1b-2cdedc26fe4b",
   "metadata": {},
   "outputs": [
    {
     "data": {
      "text/html": [
       "<div>\n",
       "<style scoped>\n",
       "    .dataframe tbody tr th:only-of-type {\n",
       "        vertical-align: middle;\n",
       "    }\n",
       "\n",
       "    .dataframe tbody tr th {\n",
       "        vertical-align: top;\n",
       "    }\n",
       "\n",
       "    .dataframe thead th {\n",
       "        text-align: right;\n",
       "    }\n",
       "</style>\n",
       "<table border=\"1\" class=\"dataframe\">\n",
       "  <thead>\n",
       "    <tr style=\"text-align: right;\">\n",
       "      <th></th>\n",
       "      <th>waktu_setempat</th>\n",
       "      <th>id_jalan</th>\n",
       "      <th>id_titik_mulai</th>\n",
       "      <th>id_titik_akhir</th>\n",
       "      <th>rerata_kecepatan</th>\n",
       "    </tr>\n",
       "  </thead>\n",
       "  <tbody>\n",
       "    <tr>\n",
       "      <th>0</th>\n",
       "      <td>2020-02-01 01:00:00</td>\n",
       "      <td>691007296</td>\n",
       "      <td>21390008</td>\n",
       "      <td>1425033102</td>\n",
       "      <td>29.126</td>\n",
       "    </tr>\n",
       "    <tr>\n",
       "      <th>1</th>\n",
       "      <td>2020-02-01 01:00:00</td>\n",
       "      <td>47010584</td>\n",
       "      <td>1677092762</td>\n",
       "      <td>579493410</td>\n",
       "      <td>46.576</td>\n",
       "    </tr>\n",
       "    <tr>\n",
       "      <th>2</th>\n",
       "      <td>2020-02-01 01:00:00</td>\n",
       "      <td>22932408</td>\n",
       "      <td>26486694</td>\n",
       "      <td>1930267566</td>\n",
       "      <td>36.587</td>\n",
       "    </tr>\n",
       "    <tr>\n",
       "      <th>3</th>\n",
       "      <td>2020-02-01 01:00:00</td>\n",
       "      <td>142479648</td>\n",
       "      <td>1111592522</td>\n",
       "      <td>3775231113</td>\n",
       "      <td>34.063</td>\n",
       "    </tr>\n",
       "    <tr>\n",
       "      <th>4</th>\n",
       "      <td>2020-02-01 01:00:00</td>\n",
       "      <td>8504977</td>\n",
       "      <td>5940503398</td>\n",
       "      <td>5940503394</td>\n",
       "      <td>38.336</td>\n",
       "    </tr>\n",
       "  </tbody>\n",
       "</table>\n",
       "</div>"
      ],
      "text/plain": [
       "       waktu_setempat   id_jalan  id_titik_mulai  id_titik_akhir  \\\n",
       "0 2020-02-01 01:00:00  691007296        21390008      1425033102   \n",
       "1 2020-02-01 01:00:00   47010584      1677092762       579493410   \n",
       "2 2020-02-01 01:00:00   22932408        26486694      1930267566   \n",
       "3 2020-02-01 01:00:00  142479648      1111592522      3775231113   \n",
       "4 2020-02-01 01:00:00    8504977      5940503398      5940503394   \n",
       "\n",
       "   rerata_kecepatan  \n",
       "0            29.126  \n",
       "1            46.576  \n",
       "2            36.587  \n",
       "3            34.063  \n",
       "4            38.336  "
      ]
     },
     "execution_count": 6,
     "metadata": {},
     "output_type": "execute_result"
    }
   ],
   "source": [
    "df_train.head()"
   ]
  },
  {
   "cell_type": "markdown",
   "id": "260006f8-80cd-4917-9bf4-e6a11daa7042",
   "metadata": {},
   "source": [
    "## External Data Merger"
   ]
  },
  {
   "cell_type": "code",
   "execution_count": 8,
   "id": "87ad96f2-6602-41d4-8d8f-24f25ff86161",
   "metadata": {},
   "outputs": [
    {
     "data": {
      "text/html": [
       "<div>\n",
       "<style scoped>\n",
       "    .dataframe tbody tr th:only-of-type {\n",
       "        vertical-align: middle;\n",
       "    }\n",
       "\n",
       "    .dataframe tbody tr th {\n",
       "        vertical-align: top;\n",
       "    }\n",
       "\n",
       "    .dataframe thead th {\n",
       "        text-align: right;\n",
       "    }\n",
       "</style>\n",
       "<table border=\"1\" class=\"dataframe\">\n",
       "  <thead>\n",
       "    <tr style=\"text-align: right;\">\n",
       "      <th></th>\n",
       "      <th>id_jalan</th>\n",
       "      <th>lanes</th>\n",
       "      <th>maxspeed</th>\n",
       "      <th>highway</th>\n",
       "    </tr>\n",
       "  </thead>\n",
       "  <tbody>\n",
       "    <tr>\n",
       "      <th>0</th>\n",
       "      <td>691007296</td>\n",
       "      <td>3.0</td>\n",
       "      <td>30</td>\n",
       "      <td>trunk</td>\n",
       "    </tr>\n",
       "    <tr>\n",
       "      <th>1</th>\n",
       "      <td>47010584</td>\n",
       "      <td>NaN</td>\n",
       "      <td>30</td>\n",
       "      <td>primary</td>\n",
       "    </tr>\n",
       "    <tr>\n",
       "      <th>2</th>\n",
       "      <td>22932408</td>\n",
       "      <td>NaN</td>\n",
       "      <td>20</td>\n",
       "      <td>secondary</td>\n",
       "    </tr>\n",
       "    <tr>\n",
       "      <th>3</th>\n",
       "      <td>142479648</td>\n",
       "      <td>3.0</td>\n",
       "      <td>20</td>\n",
       "      <td>primary</td>\n",
       "    </tr>\n",
       "    <tr>\n",
       "      <th>4</th>\n",
       "      <td>8504977</td>\n",
       "      <td>2.0</td>\n",
       "      <td>30</td>\n",
       "      <td>primary</td>\n",
       "    </tr>\n",
       "  </tbody>\n",
       "</table>\n",
       "</div>"
      ],
      "text/plain": [
       "    id_jalan  lanes  maxspeed    highway\n",
       "0  691007296    3.0        30      trunk\n",
       "1   47010584    NaN        30    primary\n",
       "2   22932408    NaN        20  secondary\n",
       "3  142479648    3.0        20    primary\n",
       "4    8504977    2.0        30    primary"
      ]
     },
     "execution_count": 8,
     "metadata": {},
     "output_type": "execute_result"
    }
   ],
   "source": [
    "static_features = pd.read_csv('dataset/external_data.csv')\n",
    "static_features.head()"
   ]
  },
  {
   "cell_type": "code",
   "execution_count": 9,
   "id": "b0e08718-66e9-41af-8b67-9e638fb3dcf3",
   "metadata": {},
   "outputs": [],
   "source": [
    "df_train = df_train.merge(static_features, on='id_jalan', how='left')\n",
    "df_test = df_test.merge(static_features, on='id_jalan', how='left')"
   ]
  },
  {
   "cell_type": "markdown",
   "id": "0f686ff3-23fd-4c35-a974-fa4c06d3db85",
   "metadata": {},
   "source": [
    "## Ide: Membuat id baru untuk tiap id_jalan - id_titik_mulai - id_titik_akhir yang unique"
   ]
  },
  {
   "cell_type": "code",
   "execution_count": 10,
   "id": "bd960e64-c5c6-4cc3-a380-8f91e29c6be7",
   "metadata": {},
   "outputs": [],
   "source": [
    "list_id = ['id_jalan', 'id_titik_mulai', 'id_titik_akhir']\n",
    "\n",
    "for i in list_id:\n",
    "    df_train[i] = df_train[i].astype('str')\n",
    "    df_test[i] = df_test[i].astype('str')"
   ]
  },
  {
   "cell_type": "code",
   "execution_count": 11,
   "id": "ba70a07a-46da-4256-9fa5-a4707e14cf44",
   "metadata": {},
   "outputs": [],
   "source": [
    "df_train['new_id'] = df_train['id_jalan'] + '_' + df_train['id_titik_mulai'] + '_' + df_train['id_titik_akhir']\n",
    "df_train = df_train.drop(list_id, axis = 1)\n",
    "\n",
    "df_test['new_id'] = df_test['id_jalan'] + '_' + df_test['id_titik_mulai'] + '_' + df_test['id_titik_akhir']\n",
    "df_test = df_test.drop(list_id, axis = 1)"
   ]
  },
  {
   "cell_type": "code",
   "execution_count": 14,
   "id": "a4eebb08-5617-42b2-8a42-62fb9c93ffb0",
   "metadata": {},
   "outputs": [
    {
     "data": {
      "text/html": [
       "<div>\n",
       "<style scoped>\n",
       "    .dataframe tbody tr th:only-of-type {\n",
       "        vertical-align: middle;\n",
       "    }\n",
       "\n",
       "    .dataframe tbody tr th {\n",
       "        vertical-align: top;\n",
       "    }\n",
       "\n",
       "    .dataframe thead th {\n",
       "        text-align: right;\n",
       "    }\n",
       "</style>\n",
       "<table border=\"1\" class=\"dataframe\">\n",
       "  <thead>\n",
       "    <tr style=\"text-align: right;\">\n",
       "      <th></th>\n",
       "      <th>waktu_setempat</th>\n",
       "      <th>rerata_kecepatan</th>\n",
       "      <th>lanes</th>\n",
       "      <th>maxspeed</th>\n",
       "      <th>highway</th>\n",
       "      <th>new_id</th>\n",
       "    </tr>\n",
       "  </thead>\n",
       "  <tbody>\n",
       "    <tr>\n",
       "      <th>0</th>\n",
       "      <td>2020-02-01 01:00:00</td>\n",
       "      <td>29.126</td>\n",
       "      <td>3.0</td>\n",
       "      <td>30</td>\n",
       "      <td>trunk</td>\n",
       "      <td>691007296_21390008_1425033102</td>\n",
       "    </tr>\n",
       "    <tr>\n",
       "      <th>1</th>\n",
       "      <td>2020-02-01 01:00:00</td>\n",
       "      <td>46.576</td>\n",
       "      <td>NaN</td>\n",
       "      <td>30</td>\n",
       "      <td>primary</td>\n",
       "      <td>47010584_1677092762_579493410</td>\n",
       "    </tr>\n",
       "    <tr>\n",
       "      <th>2</th>\n",
       "      <td>2020-02-01 01:00:00</td>\n",
       "      <td>36.587</td>\n",
       "      <td>NaN</td>\n",
       "      <td>20</td>\n",
       "      <td>secondary</td>\n",
       "      <td>22932408_26486694_1930267566</td>\n",
       "    </tr>\n",
       "    <tr>\n",
       "      <th>3</th>\n",
       "      <td>2020-02-01 01:00:00</td>\n",
       "      <td>34.063</td>\n",
       "      <td>3.0</td>\n",
       "      <td>20</td>\n",
       "      <td>primary</td>\n",
       "      <td>142479648_1111592522_3775231113</td>\n",
       "    </tr>\n",
       "    <tr>\n",
       "      <th>4</th>\n",
       "      <td>2020-02-01 01:00:00</td>\n",
       "      <td>38.336</td>\n",
       "      <td>2.0</td>\n",
       "      <td>30</td>\n",
       "      <td>primary</td>\n",
       "      <td>8504977_5940503398_5940503394</td>\n",
       "    </tr>\n",
       "  </tbody>\n",
       "</table>\n",
       "</div>"
      ],
      "text/plain": [
       "       waktu_setempat  rerata_kecepatan  lanes  maxspeed    highway  \\\n",
       "0 2020-02-01 01:00:00            29.126    3.0        30      trunk   \n",
       "1 2020-02-01 01:00:00            46.576    NaN        30    primary   \n",
       "2 2020-02-01 01:00:00            36.587    NaN        20  secondary   \n",
       "3 2020-02-01 01:00:00            34.063    3.0        20    primary   \n",
       "4 2020-02-01 01:00:00            38.336    2.0        30    primary   \n",
       "\n",
       "                            new_id  \n",
       "0    691007296_21390008_1425033102  \n",
       "1    47010584_1677092762_579493410  \n",
       "2     22932408_26486694_1930267566  \n",
       "3  142479648_1111592522_3775231113  \n",
       "4    8504977_5940503398_5940503394  "
      ]
     },
     "execution_count": 14,
     "metadata": {},
     "output_type": "execute_result"
    }
   ],
   "source": [
    "df_train.head()"
   ]
  },
  {
   "cell_type": "code",
   "execution_count": 15,
   "id": "ffb542cd-6208-4b14-a71d-835e14b5d958",
   "metadata": {},
   "outputs": [
    {
     "data": {
      "text/plain": [
       "934"
      ]
     },
     "execution_count": 15,
     "metadata": {},
     "output_type": "execute_result"
    }
   ],
   "source": [
    "len(df_train.new_id.unique())"
   ]
  },
  {
   "cell_type": "markdown",
   "id": "f023c034-1fc3-4a3b-b022-89ec7e2f9b94",
   "metadata": {},
   "source": [
    "Saat ini, terdapat 934 time series yang berbeda yang siap untuk diproses"
   ]
  },
  {
   "cell_type": "markdown",
   "id": "a366b174-a9da-4e51-b5dd-fccc231ef0cb",
   "metadata": {},
   "source": [
    "### Save into csv"
   ]
  },
  {
   "cell_type": "code",
   "execution_count": 16,
   "id": "e2a2695e-b52f-43e9-88c8-eeaa438eafb2",
   "metadata": {},
   "outputs": [],
   "source": [
    "df_train.to_csv(r'dataset/train_prepared.csv', index=False)\n",
    "df_test.to_csv(r'dataset/test_prepared.csv', index=False)"
   ]
  },
  {
   "cell_type": "code",
   "execution_count": null,
   "id": "035eb205-78ff-472e-ae13-09039629db8a",
   "metadata": {},
   "outputs": [],
   "source": []
  }
 ],
 "metadata": {
  "kernelspec": {
   "display_name": "Python 3 (ipykernel)",
   "language": "python",
   "name": "python3"
  },
  "language_info": {
   "codemirror_mode": {
    "name": "ipython",
    "version": 3
   },
   "file_extension": ".py",
   "mimetype": "text/x-python",
   "name": "python",
   "nbconvert_exporter": "python",
   "pygments_lexer": "ipython3",
   "version": "3.10.12"
  }
 },
 "nbformat": 4,
 "nbformat_minor": 5
}
