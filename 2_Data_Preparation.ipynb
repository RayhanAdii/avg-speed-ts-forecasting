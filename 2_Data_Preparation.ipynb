{
 "cells": [
  {
   "cell_type": "code",
   "execution_count": 1,
   "id": "b2d11885-2617-4cba-bdd4-f6a9a1e4ac28",
   "metadata": {},
   "outputs": [],
   "source": [
    "import pandas as pd\n",
    "import numpy as np\n",
    "from matplotlib import pyplot as plt"
   ]
  },
  {
   "cell_type": "code",
   "execution_count": 3,
   "id": "85d70e2e-2041-45ea-a214-44ca6d4ad82a",
   "metadata": {},
   "outputs": [],
   "source": [
    "df_train = pd.read_csv('dataset/train.csv')\n",
    "df_test = pd.read_csv('dataset/test.csv')"
   ]
  },
  {
   "cell_type": "code",
   "execution_count": null,
   "id": "d52af13e-1ef3-425a-849b-41e1c370de63",
   "metadata": {},
   "outputs": [],
   "source": [
    "# Slice and format datatime\n",
    "\n",
    "df_train['waktu_setempat'] = df_train['waktu_setempat'].str.slice(0, 19)\n",
    "df_train['waktu_setempat'] = pd.to_datetime(df_train['waktu_setempat'])\n",
    "\n",
    "df_test['waktu_setempat'] = df_test['waktu_setempat'].str.slice(0, 19)\n",
    "df_test['waktu_setempat'] = pd.to_datetime(df_test['waktu_setempat'])"
   ]
  },
  {
   "cell_type": "code",
   "execution_count": null,
   "id": "9c0eedeb-c48e-43dc-ad1b-2cdedc26fe4b",
   "metadata": {},
   "outputs": [],
   "source": []
  }
 ],
 "metadata": {
  "kernelspec": {
   "display_name": "Python 3 (ipykernel)",
   "language": "python",
   "name": "python3"
  },
  "language_info": {
   "codemirror_mode": {
    "name": "ipython",
    "version": 3
   },
   "file_extension": ".py",
   "mimetype": "text/x-python",
   "name": "python",
   "nbconvert_exporter": "python",
   "pygments_lexer": "ipython3",
   "version": "3.10.12"
  }
 },
 "nbformat": 4,
 "nbformat_minor": 5
}
