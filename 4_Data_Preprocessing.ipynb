{
 "cells": [
  {
   "cell_type": "code",
   "execution_count": 1,
   "id": "4b485a17-8ce6-497e-8965-cdfd2c277eff",
   "metadata": {},
   "outputs": [],
   "source": [
    "import pandas as pd\n",
    "import numpy as np\n",
    "from matplotlib import pyplot as plt"
   ]
  },
  {
   "cell_type": "code",
   "execution_count": 2,
   "id": "cbee2ea6-115f-4ba7-9c88-fbcdb00f26d6",
   "metadata": {},
   "outputs": [],
   "source": [
    "df_train = pd.read_csv('dataset/train_prepared.csv')\n",
    "df_train['waktu_setempat'] = pd.to_datetime(df_train['waktu_setempat'])\n",
    "df_train = df_train.rename(columns={'waktu_setempat': 'timestamp', 'new_id': 'item_id'})\n",
    "\n",
    "df_test = pd.read_csv('dataset/test_prepared.csv')\n",
    "df_test['waktu_setempat'] = pd.to_datetime(df_test['waktu_setempat'])\n",
    "df_test = df_test.rename(columns={'waktu_setempat': 'timestamp', 'new_id': 'item_id'})"
   ]
  },
  {
   "cell_type": "markdown",
   "id": "2c022ce4-bb7d-4492-9bbb-c5492889a895",
   "metadata": {},
   "source": [
    "## Null Handling and Skipping Timestamp Handling"
   ]
  },
  {
   "cell_type": "markdown",
   "id": "34c035ab-ea47-42a0-aaa1-75846b10c185",
   "metadata": {},
   "source": [
    "### Null Handling"
   ]
  },
  {
   "cell_type": "code",
   "execution_count": 11,
   "id": "9e3cdde0-e03d-4090-9409-f7a43d62e458",
   "metadata": {},
   "outputs": [
    {
     "name": "stdout",
     "output_type": "stream",
     "text": [
      "df train\n",
      " timestamp                0\n",
      "rerata_kecepatan         0\n",
      "lanes               244723\n",
      "maxspeed                 0\n",
      "highway                  0\n",
      "item_id                  0\n",
      "dtype: int64 \n",
      "\n",
      "df test\n",
      " id               0\n",
      "timestamp        0\n",
      "lanes        78438\n",
      "maxspeed         0\n",
      "highway          0\n",
      "item_id          0\n",
      "dtype: int64\n"
     ]
    }
   ],
   "source": [
    "#Cek Null\n",
    "print(\"df train\\n\", df_train.isna().sum(), \"\\n\")\n",
    "print(\"df test\\n\",df_test.isna().sum())"
   ]
  },
  {
   "cell_type": "markdown",
   "id": "97f03db8-2749-4741-a21c-1c0447e3b5b1",
   "metadata": {},
   "source": [
    "Dapat terlihat bahwa nilai null hanya terdapat pada feature lanes. Feature lanes merupakan feature yang menjelaskan jumlah lanes pada jalan tersebut. Berdasarkan intuisi dan domain knowledge, dapat diasumsikan bahwa apabila suatu lanes bernilai null, maka itu disebabkan karena hanya ada satu lanes pada jalan tersebut. Maka dari itu, nilai null pada feature tersebut akan diisi dengan nilai 1 "
   ]
  },
  {
   "cell_type": "code",
   "execution_count": 12,
   "id": "a2092c67-a67a-4709-9cb4-f3dbe3a66f5f",
   "metadata": {},
   "outputs": [],
   "source": [
    "#fillna lanes\n",
    "df_train['lanes'] = df_train['lanes'].fillna(1)\n",
    "df_test['lanes'] = df_test['lanes'].fillna(1)"
   ]
  },
  {
   "cell_type": "markdown",
   "id": "41274b22-ebdd-4113-8f81-dc5c0fdfe78e",
   "metadata": {},
   "source": [
    "### Skipping Timestamp Handling"
   ]
  },
  {
   "cell_type": "markdown",
   "id": "b479b021-f933-4865-9e7f-413ad90d0bc1",
   "metadata": {},
   "source": [
    "Pada kasus kali ini, digunakan metode filling data dari library autoML yaitu autogluon untuk handling skipping data (tanggal atau jam yang terlewat). Proses ini hanya perlu dilakukan pada train data"
   ]
  },
  {
   "cell_type": "code",
   "execution_count": 13,
   "id": "a2efb5b2-f190-46d4-88e5-a40f11136921",
   "metadata": {},
   "outputs": [],
   "source": [
    "from autogluon.timeseries import TimeSeriesDataFrame, TimeSeriesPredictor"
   ]
  },
  {
   "cell_type": "code",
   "execution_count": 15,
   "id": "99f17eb7-6e74-4865-9746-65594bb78f4e",
   "metadata": {},
   "outputs": [],
   "source": [
    "train_data = TimeSeriesDataFrame.from_data_frame(\n",
    "    df_train,\n",
    "    id_column=\"item_id\",\n",
    "    timestamp_column=\"timestamp\"\n",
    ")"
   ]
  },
  {
   "cell_type": "code",
   "execution_count": 16,
   "id": "c1fd35c3-41df-4150-9352-0e18c3e7be6b",
   "metadata": {},
   "outputs": [
    {
     "name": "stdout",
     "output_type": "stream",
     "text": [
      "Data has frequency 'H'\n"
     ]
    }
   ],
   "source": [
    "train_data = train_data.to_regular_index(freq=\"H\")\n",
    "print(f\"Data has frequency '{train_data.freq}'\")"
   ]
  },
  {
   "cell_type": "code",
   "execution_count": 17,
   "id": "89630030-021b-40fa-a3ab-ff58863c11f0",
   "metadata": {},
   "outputs": [],
   "source": [
    "train_data = train_data.fill_missing_values(method=\"auto\")"
   ]
  },
  {
   "cell_type": "code",
   "execution_count": 18,
   "id": "3ca4951b-d5d4-45fa-950a-f314a956318d",
   "metadata": {},
   "outputs": [],
   "source": [
    "# Turn back into pandas dataframe\n",
    "\n",
    "df_train = pd.DataFrame(train_data)\n",
    "df_train = df_train.reset_index()"
   ]
  },
  {
   "cell_type": "code",
   "execution_count": 19,
   "id": "65154a7d-48cf-439b-99e2-f1773077dc93",
   "metadata": {},
   "outputs": [
    {
     "data": {
      "text/html": [
       "<div>\n",
       "<style scoped>\n",
       "    .dataframe tbody tr th:only-of-type {\n",
       "        vertical-align: middle;\n",
       "    }\n",
       "\n",
       "    .dataframe tbody tr th {\n",
       "        vertical-align: top;\n",
       "    }\n",
       "\n",
       "    .dataframe thead th {\n",
       "        text-align: right;\n",
       "    }\n",
       "</style>\n",
       "<table border=\"1\" class=\"dataframe\">\n",
       "  <thead>\n",
       "    <tr style=\"text-align: right;\">\n",
       "      <th></th>\n",
       "      <th>item_id</th>\n",
       "      <th>timestamp</th>\n",
       "      <th>rerata_kecepatan</th>\n",
       "      <th>lanes</th>\n",
       "      <th>maxspeed</th>\n",
       "      <th>highway</th>\n",
       "    </tr>\n",
       "  </thead>\n",
       "  <tbody>\n",
       "    <tr>\n",
       "      <th>0</th>\n",
       "      <td>691007296_21390008_1425033102</td>\n",
       "      <td>2020-02-01 01:00:00</td>\n",
       "      <td>29.126</td>\n",
       "      <td>3.0</td>\n",
       "      <td>30.0</td>\n",
       "      <td>trunk</td>\n",
       "    </tr>\n",
       "    <tr>\n",
       "      <th>1</th>\n",
       "      <td>691007296_21390008_1425033102</td>\n",
       "      <td>2020-02-01 02:00:00</td>\n",
       "      <td>34.772</td>\n",
       "      <td>3.0</td>\n",
       "      <td>30.0</td>\n",
       "      <td>trunk</td>\n",
       "    </tr>\n",
       "    <tr>\n",
       "      <th>2</th>\n",
       "      <td>691007296_21390008_1425033102</td>\n",
       "      <td>2020-02-01 03:00:00</td>\n",
       "      <td>34.161</td>\n",
       "      <td>3.0</td>\n",
       "      <td>30.0</td>\n",
       "      <td>trunk</td>\n",
       "    </tr>\n",
       "    <tr>\n",
       "      <th>3</th>\n",
       "      <td>691007296_21390008_1425033102</td>\n",
       "      <td>2020-02-01 04:00:00</td>\n",
       "      <td>39.383</td>\n",
       "      <td>3.0</td>\n",
       "      <td>30.0</td>\n",
       "      <td>trunk</td>\n",
       "    </tr>\n",
       "    <tr>\n",
       "      <th>4</th>\n",
       "      <td>691007296_21390008_1425033102</td>\n",
       "      <td>2020-02-01 05:00:00</td>\n",
       "      <td>42.153</td>\n",
       "      <td>3.0</td>\n",
       "      <td>30.0</td>\n",
       "      <td>trunk</td>\n",
       "    </tr>\n",
       "  </tbody>\n",
       "</table>\n",
       "</div>"
      ],
      "text/plain": [
       "                         item_id           timestamp  rerata_kecepatan  lanes  \\\n",
       "0  691007296_21390008_1425033102 2020-02-01 01:00:00            29.126    3.0   \n",
       "1  691007296_21390008_1425033102 2020-02-01 02:00:00            34.772    3.0   \n",
       "2  691007296_21390008_1425033102 2020-02-01 03:00:00            34.161    3.0   \n",
       "3  691007296_21390008_1425033102 2020-02-01 04:00:00            39.383    3.0   \n",
       "4  691007296_21390008_1425033102 2020-02-01 05:00:00            42.153    3.0   \n",
       "\n",
       "   maxspeed highway  \n",
       "0      30.0   trunk  \n",
       "1      30.0   trunk  \n",
       "2      30.0   trunk  \n",
       "3      30.0   trunk  \n",
       "4      30.0   trunk  "
      ]
     },
     "execution_count": 19,
     "metadata": {},
     "output_type": "execute_result"
    }
   ],
   "source": [
    "df_train.head()"
   ]
  },
  {
   "cell_type": "markdown",
   "id": "2a2cecae-3a11-4a3b-831e-04a53f998f62",
   "metadata": {},
   "source": [
    "## Categorical Feature Encoding"
   ]
  },
  {
   "cell_type": "code",
   "execution_count": null,
   "id": "c58417b5-0d7a-4df9-9aab-40cb7123b7e3",
   "metadata": {},
   "outputs": [],
   "source": [
    "Pada kasus ini, terdapat satu feature yang "
   ]
  },
  {
   "cell_type": "markdown",
   "id": "97ccd26f-b2ec-4170-9ad7-7a89307de3b4",
   "metadata": {},
   "source": [
    "### Save Data"
   ]
  },
  {
   "cell_type": "code",
   "execution_count": 20,
   "id": "04e968c8-8c76-4f4b-97fa-14d3d6300218",
   "metadata": {},
   "outputs": [],
   "source": [
    "df_train.to_csv(r'dataset/train_preprocessed.csv', index=False)\n",
    "df_test.to_csv(r'dataset/test_preprocessed.csv', index=False)"
   ]
  },
  {
   "cell_type": "code",
   "execution_count": null,
   "id": "417f10d1-71e2-4f13-a209-1cfc2232f21a",
   "metadata": {},
   "outputs": [],
   "source": []
  }
 ],
 "metadata": {
  "kernelspec": {
   "display_name": "Python 3 (ipykernel)",
   "language": "python",
   "name": "python3"
  },
  "language_info": {
   "codemirror_mode": {
    "name": "ipython",
    "version": 3
   },
   "file_extension": ".py",
   "mimetype": "text/x-python",
   "name": "python",
   "nbconvert_exporter": "python",
   "pygments_lexer": "ipython3",
   "version": "3.10.12"
  }
 },
 "nbformat": 4,
 "nbformat_minor": 5
}
