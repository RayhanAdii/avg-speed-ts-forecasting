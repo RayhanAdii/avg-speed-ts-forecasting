{
 "cells": [
  {
   "cell_type": "code",
   "execution_count": 1,
   "id": "49425d55-bf0d-4987-a9fb-552b362d36a9",
   "metadata": {},
   "outputs": [],
   "source": [
    "import pandas as pd\n",
    "import numpy as np\n",
    "from matplotlib import pyplot as plt\n",
    "import seaborn as sns"
   ]
  },
  {
   "cell_type": "code",
   "execution_count": 2,
   "id": "f4c35da6-56b7-4552-bc15-ff8e8dc441a0",
   "metadata": {},
   "outputs": [],
   "source": [
    "df_train = pd.read_csv('dataset/train_preprocessed.csv')\n",
    "df_train['timestamp'] = pd.to_datetime(df_train['timestamp'])\n",
    "\n",
    "df_test = pd.read_csv('dataset/test_preprocessed.csv')\n",
    "df_test['timestamp'] = pd.to_datetime(df_test['timestamp'])"
   ]
  },
  {
   "cell_type": "code",
   "execution_count": 3,
   "id": "b549a5e2-4dc9-4b7e-b643-62b134d16e2f",
   "metadata": {},
   "outputs": [
    {
     "name": "stdout",
     "output_type": "stream",
     "text": [
      "<class 'pandas.core.frame.DataFrame'>\n",
      "RangeIndex: 492157 entries, 0 to 492156\n",
      "Data columns (total 6 columns):\n",
      " #   Column            Non-Null Count   Dtype         \n",
      "---  ------            --------------   -----         \n",
      " 0   item_id           492157 non-null  object        \n",
      " 1   timestamp         492157 non-null  datetime64[ns]\n",
      " 2   rerata_kecepatan  492157 non-null  float64       \n",
      " 3   lanes             492157 non-null  float64       \n",
      " 4   maxspeed          492157 non-null  float64       \n",
      " 5   highway           492157 non-null  int64         \n",
      "dtypes: datetime64[ns](1), float64(3), int64(1), object(1)\n",
      "memory usage: 22.5+ MB\n"
     ]
    }
   ],
   "source": [
    "df_train.info()"
   ]
  },
  {
   "cell_type": "markdown",
   "id": "318914c2-bedc-490e-bd23-5687ea7ff428",
   "metadata": {},
   "source": [
    "# Maxspeed Feature Enginering"
   ]
  },
  {
   "cell_type": "markdown",
   "id": "991b3152-d596-42f5-baff-f9c8c1fe4702",
   "metadata": {},
   "source": [
    "### Unit Convertion"
   ]
  },
  {
   "cell_type": "markdown",
   "id": "2110c0e7-79bc-476b-a245-eeab50eecef9",
   "metadata": {},
   "source": [
    "Data maxspeed yang diimport dari external data bersatuan mph, sedangkan data yang ada pada dataset bersatuan km/h. Maka dari itu perlu dilakukan konversi."
   ]
  },
  {
   "cell_type": "code",
   "execution_count": 4,
   "id": "1c3dde28-e229-47bf-aa9a-d874bc85926c",
   "metadata": {},
   "outputs": [],
   "source": [
    "df_train['maxspeed_kmh'] = df_train['maxspeed'] * 1.60934\n",
    "df_test['maxspeed_kmh'] = df_test['maxspeed'] * 1.60934"
   ]
  },
  {
   "cell_type": "markdown",
   "id": "9f178d0d-88d6-4280-8e79-e4f86b732748",
   "metadata": {},
   "source": [
    "### Average from Max?"
   ]
  },
  {
   "cell_type": "markdown",
   "id": "8dc43cb7-5131-4c1e-855e-0b5b8cc08bb5",
   "metadata": {},
   "source": [
    "Menurut intuisi, tentu maxspeed sangat jarang terjadi, bukankah rata rata umumnya berada dibawah maxspeed? maka dari itu akan dicoba dibuat feature feature baru berupa half_maxspeed, 3_per_4_maxspeed, dan 2_per_3_maxspeed"
   ]
  },
  {
   "cell_type": "code",
   "execution_count": 5,
   "id": "ecd17746-1947-4ef4-9427-070a56a2378f",
   "metadata": {},
   "outputs": [],
   "source": [
    "df_train['half_maxspeed'] = df_train['maxspeed'] * 0.5\n",
    "df_test['half_maxspeed'] = df_test['maxspeed'] * 0.5\n",
    "\n",
    "df_train['3_per_4_maxspeed'] = df_train['maxspeed'] * 0.75\n",
    "df_test['3_per_4_maxspeed'] = df_test['maxspeed'] * 0.75\n",
    "\n",
    "df_train['2_per_3_maxspeed'] = df_train['maxspeed'] * 0.666\n",
    "df_test['2_per_3_maxspeed'] = df_test['maxspeed'] * 0.666"
   ]
  },
  {
   "cell_type": "markdown",
   "id": "5f2c701c-b0cf-424f-872d-427fec2df17c",
   "metadata": {},
   "source": [
    "# Timeseries Feature Extraction"
   ]
  },
  {
   "cell_type": "markdown",
   "id": "da3179f4-f38e-4201-8233-b739bde450a4",
   "metadata": {},
   "source": [
    "### day_of_week"
   ]
  },
  {
   "cell_type": "code",
   "execution_count": 6,
   "id": "5d6e7671-0b7b-4a77-bfba-8b75c816dd50",
   "metadata": {},
   "outputs": [],
   "source": [
    "df_train['day_of_week'] = df_train['timestamp'].dt.dayofweek\n",
    "df_test['day_of_week'] = df_test['timestamp'].dt.dayofweek"
   ]
  },
  {
   "cell_type": "markdown",
   "id": "ee18742f-81f7-4d0b-aa85-df3c4d63f84c",
   "metadata": {},
   "source": [
    "### holiday"
   ]
  },
  {
   "cell_type": "code",
   "execution_count": 7,
   "id": "6ed011df-a81d-4c4f-a2b3-c11474551536",
   "metadata": {},
   "outputs": [],
   "source": [
    "df_train['holiday'] = df_train['day_of_week']\n",
    "df_test['holiday'] = df_test['day_of_week']\n",
    "\n",
    "# Label Encode \"libur\"\n",
    "\n",
    "ordinal_map = {5:1,\n",
    "               6:1,\n",
    "               0:0,\n",
    "               1:0,\n",
    "               2:0,\n",
    "               3:0,\n",
    "               4:0,\n",
    "}\n",
    "\n",
    "df_train['holiday'] = df_train.day_of_week.map(ordinal_map)\n",
    "df_test['holiday'] = df_test.day_of_week.map(ordinal_map)"
   ]
  },
  {
   "cell_type": "markdown",
   "id": "1405b3c7-92a1-4931-9dac-4f1948732e1e",
   "metadata": {},
   "source": [
    "### hour"
   ]
  },
  {
   "cell_type": "code",
   "execution_count": 8,
   "id": "eeaeabdf-1f82-4f8b-b144-8f88d8015f44",
   "metadata": {},
   "outputs": [],
   "source": [
    "df_train['hour'] = df_train['timestamp'].dt.hour\n",
    "df_test['hour'] = df_test['timestamp'].dt.hour"
   ]
  },
  {
   "cell_type": "markdown",
   "id": "f4c1b79a-ca5d-4601-8738-f9187fde2484",
   "metadata": {},
   "source": [
    "### mean_rerata_kecepatan_mingguan"
   ]
  },
  {
   "cell_type": "code",
   "execution_count": 9,
   "id": "d4eed25d-b571-458c-ab14-4dc0926b56e5",
   "metadata": {},
   "outputs": [],
   "source": [
    "# Define a custom aggregation function to calculate mean\n",
    "def calculate_mean(group):\n",
    "    return group['rerata_kecepatan'].mean()\n",
    "\n",
    "# Apply the custom aggregation function to the DataFrame\n",
    "mean_values = df_train.groupby(['item_id', 'day_of_week', 'hour']).apply(calculate_mean).reset_index(name='mean_rerata_kecepatan_mingguan')\n",
    "\n",
    "# Merge the mean_values DataFrame back into df_train\n",
    "df_train = df_train.merge(mean_values, on=['item_id', 'day_of_week', 'hour'], how='left')\n",
    "df_test = df_test.merge(mean_values, on=['item_id', 'day_of_week', 'hour'], how='left')"
   ]
  },
  {
   "cell_type": "markdown",
   "id": "a34b7bd7-6d50-46e3-9a2a-80eb33f0832a",
   "metadata": {},
   "source": [
    "### mean_rerata_kecepatan_harian"
   ]
  },
  {
   "cell_type": "code",
   "execution_count": 10,
   "id": "1722f63d-eb87-49fb-acf4-33ce3a4e791e",
   "metadata": {},
   "outputs": [],
   "source": [
    "# Apply the custom aggregation function to the DataFrame\n",
    "mean_values = df_train.groupby(['item_id', 'hour']).apply(calculate_mean).reset_index(name='mean_rerata_kecepatan_harian')\n",
    "\n",
    "# Merge the mean_values DataFrame back into df_train\n",
    "df_train = df_train.merge(mean_values, on=['item_id', 'hour'], how='left')\n",
    "df_test = df_test.merge(mean_values, on=['item_id', 'hour'], how='left')"
   ]
  },
  {
   "cell_type": "markdown",
   "id": "72411e9a-c3d8-40dc-bb02-807eae651092",
   "metadata": {},
   "source": [
    "### Save File"
   ]
  },
  {
   "cell_type": "code",
   "execution_count": 11,
   "id": "f424fdd3-405f-4dd7-aaab-dc2395b0d3fb",
   "metadata": {},
   "outputs": [],
   "source": [
    "df_train.to_csv(r'dataset/train_feature_engineered.csv', index=False)\n",
    "df_test.to_csv(r'dataset/test_feature_engineered.csv', index=False)"
   ]
  },
  {
   "cell_type": "code",
   "execution_count": null,
   "id": "e819bfba-6b6e-45f6-b88a-51c577d680d8",
   "metadata": {},
   "outputs": [],
   "source": []
  }
 ],
 "metadata": {
  "kernelspec": {
   "display_name": "Python 3 (ipykernel)",
   "language": "python",
   "name": "python3"
  },
  "language_info": {
   "codemirror_mode": {
    "name": "ipython",
    "version": 3
   },
   "file_extension": ".py",
   "mimetype": "text/x-python",
   "name": "python",
   "nbconvert_exporter": "python",
   "pygments_lexer": "ipython3",
   "version": "3.10.12"
  }
 },
 "nbformat": 4,
 "nbformat_minor": 5
}
